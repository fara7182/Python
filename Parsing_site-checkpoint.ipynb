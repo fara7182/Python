{
 "cells": [
  {
   "cell_type": "code",
   "execution_count": 1,
   "id": "64926003",
   "metadata": {},
   "outputs": [],
   "source": [
    "import numpy as np\n",
    "import pandas as pd\n",
    "from bs4 import BeautifulSoup as bs\n",
    "import requests\n",
    "from openpyxl import Workbook"
   ]
  },
  {
   "cell_type": "code",
   "execution_count": 2,
   "id": "4e10651d",
   "metadata": {},
   "outputs": [],
   "source": [
    "cities = {\n",
    "    'Актобе' : 'aktobe',\n",
    "    'Уральск' : 'uralsk'\n",
    "}"
   ]
  },
  {
   "cell_type": "code",
   "execution_count": 3,
   "id": "8f8a9bdb",
   "metadata": {},
   "outputs": [],
   "source": [
    "URL = 'https://www.kdlolymp.kz/pricelist/'"
   ]
  },
  {
   "cell_type": "code",
   "execution_count": 4,
   "id": "cc0aae30",
   "metadata": {},
   "outputs": [
    {
     "name": "stdout",
     "output_type": "stream",
     "text": [
      "['Актобе', 'Уральск']\n"
     ]
    }
   ],
   "source": [
    "path = r'C:\\Users\\Asus\\Downloads\\\\' #путь к файлу\n",
    "\n",
    "file = 'Актобе и Уральск 1 сентября по 1 февраля Request' #название файла\n",
    "\n",
    "extension = '.xlsx' #тип файла\n",
    "\n",
    "excel_file = pd.ExcelFile(path + file + extension)\n",
    "\n",
    "sheets = excel_file.sheet_names\n",
    "\n",
    "print(sheets)"
   ]
  },
  {
   "cell_type": "code",
   "execution_count": 5,
   "id": "d02d42b1",
   "metadata": {},
   "outputs": [],
   "source": [
    "new_file_path = path + file + ' (изменено)' + extension\n",
    "workbook = Workbook()\n",
    "workbook.save(new_file_path)"
   ]
  },
  {
   "cell_type": "code",
   "execution_count": 6,
   "id": "a250fb40",
   "metadata": {},
   "outputs": [],
   "source": [
    "writer = pd.ExcelWriter(new_file_path, engine = 'xlsxwriter')"
   ]
  },
  {
   "cell_type": "code",
   "execution_count": 7,
   "id": "616b1920",
   "metadata": {},
   "outputs": [
    {
     "name": "stdout",
     "output_type": "stream",
     "text": [
      "Количество всех услуг по городу  Актобе :  1220\n",
      "Количество строк и столбцов записанных в dataframe:  (1220, 3)\n",
      "Данные по городу  Актобе  были выгружены.\n",
      "Количество всех услуг по городу  Уральск :  1305\n",
      "Количество строк и столбцов записанных в dataframe:  (1305, 3)\n",
      "Данные по городу  Уральск  были выгружены.\n"
     ]
    }
   ],
   "source": [
    "for sheet in sheets:\n",
    "    df_lis = pd.read_excel(path + file + extension, sheet_name=sheet)\n",
    "    \n",
    "    city_rus = sheet.replace(' ', '')\n",
    "    \n",
    "    city_latin = cities[city_rus]\n",
    "    \n",
    "    url = URL + city_latin\n",
    "    \n",
    "    content = requests.get(url)\n",
    "    \n",
    "    soup = bs(content.text, 'html.parser')\n",
    "    \n",
    "    service_rows = soup.find_all('div', {'class' : 'service-row'})\n",
    "    print('Количество всех услуг по городу ', city_rus, ': ', len(service_rows))\n",
    "    \n",
    "    records = []\n",
    "    \n",
    "    for r in service_rows:\n",
    "    \n",
    "        service_name = r.find('div', {'class' : 'service-row__item service-title wide-title-cell'}).text #название услуги\n",
    "        \n",
    "        service_code = r.find('span', {'class' : 'add-to-cart'})['data-code'] #код услуги\n",
    "    \n",
    "        time = r.find('div', {'class': 'service-row__item period normal'}).text #указанный срок\n",
    "        \n",
    "        records.append({\n",
    "            'Код_услуги' : service_code,\n",
    "            'Услуга' : service_name,\n",
    "            'Срок' : time       \n",
    "        })\n",
    "        \n",
    "        #print(len(records))\n",
    "    \n",
    "    \n",
    "    \n",
    "    df_parsed = pd.DataFrame(records)\n",
    "    \n",
    "    print('Количество строк и столбцов записанных в dataframe: ', df_parsed.shape)\n",
    "    \n",
    "    df_parsed_code = df_parsed['Код_услуги'].tolist()\n",
    "    df_lis_code = df_lis['Код_услуги'].tolist()\n",
    "\n",
    "    not_in = []\n",
    "\n",
    "    #c = 0\n",
    "    for i in df_lis_code:\n",
    "        if i not in df_parsed_code:\n",
    "        #print(i)\n",
    "            #c += 1\n",
    "            not_in.append(i)\n",
    "        \n",
    "    #print(c)\n",
    "    #print(not_in)\n",
    "    \n",
    "    final = pd.merge(df_lis, df_parsed, how='right')\n",
    "    \n",
    "    final['Срок'] = final['Срок'].fillna('')\n",
    "    \n",
    "    for i, r in final.iterrows():\n",
    "        \n",
    "        #---------------------------------------------------\n",
    "            \n",
    "        pl_time = r['Срок']\n",
    "        if pl_time:\n",
    "            pl_time = str(pl_time).replace(' ', '').replace('д.', '').replace('до', '').replace('от', '').replace('дней', '')\n",
    "            \n",
    "            if len(pl_time.split('-')) == 2:\n",
    "                pl_min_time, pl_max_time = pl_time.split('-')\n",
    "                \n",
    "            else:\n",
    "                pl_min_time = pl_max_time = pl_time\n",
    "            \n",
    "            final.at[i, 'Min_PL'] = pl_min_time\n",
    "            final.at[i, 'Max_PL'] = pl_max_time\n",
    "            \n",
    "        else:\n",
    "            pl_min_time = pl_max_time = pl_time\n",
    "            \n",
    "            final.at[i, 'Min_PL'] = pl_min_time\n",
    "            final.at[i, 'Max_PL'] = pl_max_time\n",
    "            \n",
    "        #---------------------------------------------------\n",
    "    \n",
    "    final['Mediana'] = final['Mediana'].apply(lambda x: 1 if x == 0 else x)\n",
    "    \n",
    "    final['MAX_time'] = final['MAX_time'].apply(lambda x: 1 if x == 0 else x)\n",
    "    \n",
    "    final.drop('Срок', axis = 1, inplace = True)\n",
    "    \n",
    "    final.to_excel(writer, sheet_name = sheet, index=False)\n",
    "    \n",
    "    print('Данные по городу ', city_rus, ' были выгружены.')"
   ]
  },
  {
   "cell_type": "code",
   "execution_count": 8,
   "id": "76283157",
   "metadata": {},
   "outputs": [],
   "source": [
    "writer.close()"
   ]
  },
  {
   "cell_type": "code",
   "execution_count": 9,
   "id": "e34e5ff5",
   "metadata": {},
   "outputs": [],
   "source": [
    "import numpy as np\n",
    "import pandas as pd"
   ]
  },
  {
   "cell_type": "code",
   "execution_count": 10,
   "id": "a14644f7",
   "metadata": {},
   "outputs": [],
   "source": [
    "pl_and_lis_Aktobe = pd.read_excel('Актобе и Уральск 1 сентября по 1 февраля Request (изменено).xlsx', sheet_name = 'Актобе')\n",
    "sparovchnik_Actobe = pd.read_excel('Конструктор_отчетов_все_услуги_по_регионам.xlsx', sheet_name = 'Актобе')"
   ]
  },
  {
   "cell_type": "code",
   "execution_count": 11,
   "id": "3faa0a80",
   "metadata": {},
   "outputs": [
    {
     "data": {
      "text/plain": [
       "(1220, 8)"
      ]
     },
     "execution_count": 11,
     "metadata": {},
     "output_type": "execute_result"
    }
   ],
   "source": [
    "pl_and_lis_Aktobe.shape"
   ]
  },
  {
   "cell_type": "code",
   "execution_count": 12,
   "id": "104f72d9",
   "metadata": {},
   "outputs": [
    {
     "data": {
      "text/plain": [
       "(2742, 3)"
      ]
     },
     "execution_count": 12,
     "metadata": {},
     "output_type": "execute_result"
    }
   ],
   "source": [
    "sparovchnik_Actobe.shape"
   ]
  },
  {
   "cell_type": "code",
   "execution_count": 13,
   "id": "8f5da5d9",
   "metadata": {},
   "outputs": [
    {
     "data": {
      "text/html": [
       "<div>\n",
       "<style scoped>\n",
       "    .dataframe tbody tr th:only-of-type {\n",
       "        vertical-align: middle;\n",
       "    }\n",
       "\n",
       "    .dataframe tbody tr th {\n",
       "        vertical-align: top;\n",
       "    }\n",
       "\n",
       "    .dataframe thead th {\n",
       "        text-align: right;\n",
       "    }\n",
       "</style>\n",
       "<table border=\"1\" class=\"dataframe\">\n",
       "  <thead>\n",
       "    <tr style=\"text-align: right;\">\n",
       "      <th></th>\n",
       "      <th>Код_услуги</th>\n",
       "      <th>Услуга</th>\n",
       "      <th>Mediana</th>\n",
       "      <th>MAX_time</th>\n",
       "      <th>Регион</th>\n",
       "      <th>Количество</th>\n",
       "      <th>Min_PL</th>\n",
       "      <th>Max_PL</th>\n",
       "    </tr>\n",
       "  </thead>\n",
       "  <tbody>\n",
       "    <tr>\n",
       "      <th>0</th>\n",
       "      <td>40.165</td>\n",
       "      <td>Определение панкреатической эластазы</td>\n",
       "      <td>5.0</td>\n",
       "      <td>6.0</td>\n",
       "      <td>Актобе</td>\n",
       "      <td>88.0</td>\n",
       "      <td>NaN</td>\n",
       "      <td>NaN</td>\n",
       "    </tr>\n",
       "    <tr>\n",
       "      <th>1</th>\n",
       "      <td>71.22</td>\n",
       "      <td>P-селектин лиганд гликопротеина (SELPLG Met62I...</td>\n",
       "      <td>NaN</td>\n",
       "      <td>NaN</td>\n",
       "      <td>NaN</td>\n",
       "      <td>NaN</td>\n",
       "      <td>NaN</td>\n",
       "      <td>NaN</td>\n",
       "    </tr>\n",
       "    <tr>\n",
       "      <th>2</th>\n",
       "      <td>75.04</td>\n",
       "      <td>Адреногенитальный синдром (CYP21OHA/B: P30L, V...</td>\n",
       "      <td>NaN</td>\n",
       "      <td>NaN</td>\n",
       "      <td>NaN</td>\n",
       "      <td>NaN</td>\n",
       "      <td>NaN</td>\n",
       "      <td>NaN</td>\n",
       "    </tr>\n",
       "    <tr>\n",
       "      <th>3</th>\n",
       "      <td>75.07</td>\n",
       "      <td>Гемохроматоз (HFE: H63D, S65C, C282Y) (3)</td>\n",
       "      <td>19.0</td>\n",
       "      <td>19.0</td>\n",
       "      <td>Актобе</td>\n",
       "      <td>1.0</td>\n",
       "      <td>NaN</td>\n",
       "      <td>NaN</td>\n",
       "    </tr>\n",
       "    <tr>\n",
       "      <th>4</th>\n",
       "      <td>21.02</td>\n",
       "      <td>Гены основного комплекса системы гистосовмести...</td>\n",
       "      <td>NaN</td>\n",
       "      <td>NaN</td>\n",
       "      <td>NaN</td>\n",
       "      <td>NaN</td>\n",
       "      <td>NaN</td>\n",
       "      <td>NaN</td>\n",
       "    </tr>\n",
       "  </tbody>\n",
       "</table>\n",
       "</div>"
      ],
      "text/plain": [
       "  Код_услуги                                             Услуга  Mediana  \\\n",
       "0     40.165               Определение панкреатической эластазы      5.0   \n",
       "1      71.22  P-селектин лиганд гликопротеина (SELPLG Met62I...      NaN   \n",
       "2      75.04  Адреногенитальный синдром (CYP21OHA/B: P30L, V...      NaN   \n",
       "3      75.07          Гемохроматоз (HFE: H63D, S65C, C282Y) (3)     19.0   \n",
       "4      21.02  Гены основного комплекса системы гистосовмести...      NaN   \n",
       "\n",
       "   MAX_time  Регион  Количество  Min_PL Max_PL  \n",
       "0       6.0  Актобе        88.0     NaN    NaN  \n",
       "1       NaN     NaN         NaN     NaN    NaN  \n",
       "2       NaN     NaN         NaN     NaN    NaN  \n",
       "3      19.0  Актобе         1.0     NaN    NaN  \n",
       "4       NaN     NaN         NaN     NaN    NaN  "
      ]
     },
     "execution_count": 13,
     "metadata": {},
     "output_type": "execute_result"
    }
   ],
   "source": [
    "pl_and_lis_Aktobe.head()"
   ]
  },
  {
   "cell_type": "code",
   "execution_count": 14,
   "id": "1dea36dc",
   "metadata": {},
   "outputs": [
    {
     "data": {
      "text/html": [
       "<div>\n",
       "<style scoped>\n",
       "    .dataframe tbody tr th:only-of-type {\n",
       "        vertical-align: middle;\n",
       "    }\n",
       "\n",
       "    .dataframe tbody tr th {\n",
       "        vertical-align: top;\n",
       "    }\n",
       "\n",
       "    .dataframe thead th {\n",
       "        text-align: right;\n",
       "    }\n",
       "</style>\n",
       "<table border=\"1\" class=\"dataframe\">\n",
       "  <thead>\n",
       "    <tr style=\"text-align: right;\">\n",
       "      <th></th>\n",
       "      <th>Название</th>\n",
       "      <th>Код_услуги</th>\n",
       "      <th>Группа услуг</th>\n",
       "    </tr>\n",
       "  </thead>\n",
       "  <tbody>\n",
       "    <tr>\n",
       "      <th>0</th>\n",
       "      <td>20000</td>\n",
       "      <td>100.00.105</td>\n",
       "      <td>Для чеков (отметьте несколько значений, чтобы ...</td>\n",
       "    </tr>\n",
       "    <tr>\n",
       "      <th>1</th>\n",
       "      <td>30000</td>\n",
       "      <td>100.00.110</td>\n",
       "      <td>Для чеков (отметьте несколько значений, чтобы ...</td>\n",
       "    </tr>\n",
       "    <tr>\n",
       "      <th>2</th>\n",
       "      <td>40000</td>\n",
       "      <td>100.00.115</td>\n",
       "      <td>Для чеков (отметьте несколько значений, чтобы ...</td>\n",
       "    </tr>\n",
       "    <tr>\n",
       "      <th>3</th>\n",
       "      <td>50000</td>\n",
       "      <td>100.00.120</td>\n",
       "      <td>Для чеков (отметьте несколько значений, чтобы ...</td>\n",
       "    </tr>\n",
       "    <tr>\n",
       "      <th>4</th>\n",
       "      <td>1000</td>\n",
       "      <td>100.00.075</td>\n",
       "      <td>Для чеков (отметьте несколько значений, чтобы ...</td>\n",
       "    </tr>\n",
       "  </tbody>\n",
       "</table>\n",
       "</div>"
      ],
      "text/plain": [
       "  Название  Код_услуги                                       Группа услуг\n",
       "0    20000  100.00.105  Для чеков (отметьте несколько значений, чтобы ...\n",
       "1    30000  100.00.110  Для чеков (отметьте несколько значений, чтобы ...\n",
       "2    40000  100.00.115  Для чеков (отметьте несколько значений, чтобы ...\n",
       "3    50000  100.00.120  Для чеков (отметьте несколько значений, чтобы ...\n",
       "4     1000  100.00.075  Для чеков (отметьте несколько значений, чтобы ..."
      ]
     },
     "execution_count": 14,
     "metadata": {},
     "output_type": "execute_result"
    }
   ],
   "source": [
    "sparovchnik_Actobe.head()"
   ]
  },
  {
   "cell_type": "code",
   "execution_count": 15,
   "id": "313e8c26",
   "metadata": {},
   "outputs": [],
   "source": [
    "df_two = pd.merge(pl_and_lis_Aktobe, sparovchnik_Actobe, how = 'left')"
   ]
  },
  {
   "cell_type": "code",
   "execution_count": 16,
   "id": "5dd7c6cf",
   "metadata": {},
   "outputs": [
    {
     "data": {
      "text/plain": [
       "(1220, 10)"
      ]
     },
     "execution_count": 16,
     "metadata": {},
     "output_type": "execute_result"
    }
   ],
   "source": [
    "df_two.shape"
   ]
  },
  {
   "cell_type": "code",
   "execution_count": 17,
   "id": "b1db2446",
   "metadata": {},
   "outputs": [],
   "source": [
    "df_two['Комментарии'] = df_two.apply(lambda row: 'Не указан срок в прайсе' if pd.isna(row['Min_PL']) else '', axis=1)\n",
    "def update_times(row):\n",
    "    if row['Количество'] < 100:\n",
    "        row['Mediana'] = row['Min_PL']\n",
    "        row['MAX_time'] = row['Max_PL']\n",
    "    return row\n",
    "\n",
    "\n",
    "df_two = df_two.apply(update_times, axis=1)"
   ]
  },
  {
   "cell_type": "code",
   "execution_count": 18,
   "id": "092bdca1",
   "metadata": {},
   "outputs": [],
   "source": [
    "df_Akto = df_two.reindex(columns=['Группа услуг', 'Код_услуги', 'Услуга','Название', 'Mediana', 'MAX_time', 'Min_PL', 'Max_PL',\n",
    "                                    'Количество', 'Комментарии'])"
   ]
  },
  {
   "cell_type": "code",
   "execution_count": 19,
   "id": "ca7c602a",
   "metadata": {},
   "outputs": [],
   "source": [
    "df_Akto['Примечание'] = np.where(df_Akto['Услуга'] != df_Akto['Название'], 'Грам.ошибка/Сокращен.название', '')"
   ]
  },
  {
   "cell_type": "code",
   "execution_count": 20,
   "id": "8a8983cb",
   "metadata": {},
   "outputs": [],
   "source": [
    "df_Akto.drop(\"Название\", axis=1, inplace=True)"
   ]
  },
  {
   "cell_type": "code",
   "execution_count": 21,
   "id": "1396e9c0",
   "metadata": {},
   "outputs": [],
   "source": [
    "df_Akto['Разница'] = df_Akto['Min_PL'] - df_Akto['Mediana']"
   ]
  },
  {
   "cell_type": "code",
   "execution_count": 22,
   "id": "87552192",
   "metadata": {},
   "outputs": [],
   "source": [
    "df_Akto.to_excel('Request_Aktobe.xlsx', index = False)"
   ]
  },
  {
   "cell_type": "code",
   "execution_count": 23,
   "id": "3e680a61",
   "metadata": {},
   "outputs": [],
   "source": [
    "pl_and_lis_Ural = pd.read_excel('Актобе и Уральск 1 сентября по 1 февраля Request (изменено).xlsx', sheet_name = 'Уральск')\n",
    "sparovchnik_Uralsck = pd.read_excel('Конструктор_отчетов_все_услуги_по_регионам.xlsx', sheet_name = 'Уральск')"
   ]
  },
  {
   "cell_type": "code",
   "execution_count": 24,
   "id": "9e5ba656",
   "metadata": {},
   "outputs": [
    {
     "data": {
      "text/plain": [
       "(1305, 8)"
      ]
     },
     "execution_count": 24,
     "metadata": {},
     "output_type": "execute_result"
    }
   ],
   "source": [
    "pl_and_lis_Ural.shape"
   ]
  },
  {
   "cell_type": "code",
   "execution_count": 25,
   "id": "ecf08bf1",
   "metadata": {},
   "outputs": [
    {
     "data": {
      "text/html": [
       "<div>\n",
       "<style scoped>\n",
       "    .dataframe tbody tr th:only-of-type {\n",
       "        vertical-align: middle;\n",
       "    }\n",
       "\n",
       "    .dataframe tbody tr th {\n",
       "        vertical-align: top;\n",
       "    }\n",
       "\n",
       "    .dataframe thead th {\n",
       "        text-align: right;\n",
       "    }\n",
       "</style>\n",
       "<table border=\"1\" class=\"dataframe\">\n",
       "  <thead>\n",
       "    <tr style=\"text-align: right;\">\n",
       "      <th></th>\n",
       "      <th>Код_услуги</th>\n",
       "      <th>Услуга</th>\n",
       "      <th>Mediana</th>\n",
       "      <th>MAX_time</th>\n",
       "      <th>Регион</th>\n",
       "      <th>Количество</th>\n",
       "      <th>Min_PL</th>\n",
       "      <th>Max_PL</th>\n",
       "    </tr>\n",
       "  </thead>\n",
       "  <tbody>\n",
       "    <tr>\n",
       "      <th>0</th>\n",
       "      <td>40.165</td>\n",
       "      <td>Определение панкреатической эластазы</td>\n",
       "      <td>5.0</td>\n",
       "      <td>6.0</td>\n",
       "      <td>Уральск</td>\n",
       "      <td>210.0</td>\n",
       "      <td>7.0</td>\n",
       "      <td>10.0</td>\n",
       "    </tr>\n",
       "    <tr>\n",
       "      <th>1</th>\n",
       "      <td>93.00.2947</td>\n",
       "      <td>AFZ регион</td>\n",
       "      <td>NaN</td>\n",
       "      <td>NaN</td>\n",
       "      <td>NaN</td>\n",
       "      <td>NaN</td>\n",
       "      <td>NaN</td>\n",
       "      <td>NaN</td>\n",
       "    </tr>\n",
       "    <tr>\n",
       "      <th>2</th>\n",
       "      <td>93.00.2946</td>\n",
       "      <td>ATP7B</td>\n",
       "      <td>NaN</td>\n",
       "      <td>NaN</td>\n",
       "      <td>NaN</td>\n",
       "      <td>NaN</td>\n",
       "      <td>NaN</td>\n",
       "      <td>NaN</td>\n",
       "    </tr>\n",
       "    <tr>\n",
       "      <th>3</th>\n",
       "      <td>93.00.2935</td>\n",
       "      <td>C9orf72</td>\n",
       "      <td>NaN</td>\n",
       "      <td>NaN</td>\n",
       "      <td>NaN</td>\n",
       "      <td>NaN</td>\n",
       "      <td>NaN</td>\n",
       "      <td>NaN</td>\n",
       "    </tr>\n",
       "    <tr>\n",
       "      <th>4</th>\n",
       "      <td>93.00.2957</td>\n",
       "      <td>CentoICU</td>\n",
       "      <td>NaN</td>\n",
       "      <td>NaN</td>\n",
       "      <td>NaN</td>\n",
       "      <td>NaN</td>\n",
       "      <td>NaN</td>\n",
       "      <td>NaN</td>\n",
       "    </tr>\n",
       "  </tbody>\n",
       "</table>\n",
       "</div>"
      ],
      "text/plain": [
       "   Код_услуги                                Услуга  Mediana  MAX_time  \\\n",
       "0      40.165  Определение панкреатической эластазы      5.0       6.0   \n",
       "1  93.00.2947                            AFZ регион      NaN       NaN   \n",
       "2  93.00.2946                                 ATP7B      NaN       NaN   \n",
       "3  93.00.2935                               C9orf72      NaN       NaN   \n",
       "4  93.00.2957                              CentoICU      NaN       NaN   \n",
       "\n",
       "    Регион  Количество  Min_PL  Max_PL  \n",
       "0  Уральск       210.0     7.0    10.0  \n",
       "1      NaN         NaN     NaN     NaN  \n",
       "2      NaN         NaN     NaN     NaN  \n",
       "3      NaN         NaN     NaN     NaN  \n",
       "4      NaN         NaN     NaN     NaN  "
      ]
     },
     "execution_count": 25,
     "metadata": {},
     "output_type": "execute_result"
    }
   ],
   "source": [
    "pl_and_lis_Ural.head()"
   ]
  },
  {
   "cell_type": "code",
   "execution_count": 26,
   "id": "eb2b2fab",
   "metadata": {},
   "outputs": [
    {
     "data": {
      "text/plain": [
       "(2885, 3)"
      ]
     },
     "execution_count": 26,
     "metadata": {},
     "output_type": "execute_result"
    }
   ],
   "source": [
    "sparovchnik_Uralsck.shape"
   ]
  },
  {
   "cell_type": "code",
   "execution_count": 27,
   "id": "9952d77e",
   "metadata": {},
   "outputs": [],
   "source": [
    "df_Uralsck = pd.merge(pl_and_lis_Ural, sparovchnik_Uralsck, how = 'left')"
   ]
  },
  {
   "cell_type": "code",
   "execution_count": 28,
   "id": "8566d1b6",
   "metadata": {},
   "outputs": [
    {
     "data": {
      "text/plain": [
       "(1305, 10)"
      ]
     },
     "execution_count": 28,
     "metadata": {},
     "output_type": "execute_result"
    }
   ],
   "source": [
    "df_Uralsck.shape"
   ]
  },
  {
   "cell_type": "code",
   "execution_count": 29,
   "id": "1dd9378f",
   "metadata": {},
   "outputs": [],
   "source": [
    "df_Uralsck['Комментарии'] = df_Uralsck.apply(lambda row: 'Не указан срок в прайсе' if pd.isna(row['Min_PL']) else '', axis=1)\n",
    "def update_times(row):\n",
    "    if row['Количество'] < 100:\n",
    "        row['Mediana'] = row['Min_PL']\n",
    "        row['MAX_time'] = row['Max_PL']\n",
    "    return row\n",
    "\n",
    "\n",
    "df_Uralsck = df_Uralsck.apply(update_times, axis=1)"
   ]
  },
  {
   "cell_type": "code",
   "execution_count": 30,
   "id": "6054d695",
   "metadata": {},
   "outputs": [],
   "source": [
    "df_Ural = df_Uralsck.reindex(columns=['Группа услуг', 'Код_услуги','Название', 'Услуга', 'Mediana', 'MAX_time', 'Min_PL', 'Max_PL',\n",
    "                                    'Количество', 'Комментарии'])"
   ]
  },
  {
   "cell_type": "code",
   "execution_count": 31,
   "id": "5ec8ff1a",
   "metadata": {},
   "outputs": [],
   "source": [
    "df_Ural['Примечание'] = np.where(df_Ural['Услуга'] != df_Ural['Название'], 'Грам.ошибка/Сокращен.название', '')"
   ]
  },
  {
   "cell_type": "code",
   "execution_count": 32,
   "id": "a04e9e57",
   "metadata": {},
   "outputs": [],
   "source": [
    "df_Ural.drop(\"Название\", axis=1, inplace=True)"
   ]
  },
  {
   "cell_type": "code",
   "execution_count": 33,
   "id": "15148ff6",
   "metadata": {},
   "outputs": [],
   "source": [
    "df_Ural['Разница'] = df_Ural['Min_PL'] - df_Ural['Mediana']"
   ]
  },
  {
   "cell_type": "code",
   "execution_count": 34,
   "id": "d17419a5",
   "metadata": {},
   "outputs": [],
   "source": [
    "df_Ural.to_excel('Request_Uralsck.xlsx', index = False)"
   ]
  },
  {
   "cell_type": "code",
   "execution_count": 35,
   "id": "ed944c93",
   "metadata": {},
   "outputs": [
    {
     "data": {
      "text/plain": [
       "(1305, 11)"
      ]
     },
     "execution_count": 35,
     "metadata": {},
     "output_type": "execute_result"
    }
   ],
   "source": [
    "df_Ural.shape"
   ]
  },
  {
   "cell_type": "code",
   "execution_count": 36,
   "id": "2f1631b3",
   "metadata": {},
   "outputs": [],
   "source": [
    "import numpy as np\n",
    "import pandas as pd"
   ]
  },
  {
   "cell_type": "code",
   "execution_count": 37,
   "id": "44a7b43d",
   "metadata": {},
   "outputs": [],
   "source": [
    "Request_Aktobe = pd.read_excel('Request_Aktobe.xlsx')\n",
    "Sample_Aktobe = pd.read_excel('Актобе и Уральск 1 сентября по 1 февраля Sample.xlsx', sheet_name = 'Актобе')"
   ]
  },
  {
   "cell_type": "code",
   "execution_count": 38,
   "id": "3191cf32",
   "metadata": {},
   "outputs": [],
   "source": [
    "df_sample_request = pd.merge(Request_Aktobe , Sample_Aktobe, how = 'left')"
   ]
  },
  {
   "cell_type": "code",
   "execution_count": 39,
   "id": "c2fba95a",
   "metadata": {},
   "outputs": [],
   "source": [
    "def update_times(row):\n",
    "    if row['Количество'] < 100:\n",
    "        row['Mediana_Sample'] = row['Min_PL']\n",
    "        row['MAX_time_Sample'] = row['Max_PL']\n",
    "    return row\n",
    "\n",
    "\n",
    "df_sample_request = df_sample_request.apply(update_times, axis=1)"
   ]
  },
  {
   "cell_type": "code",
   "execution_count": 40,
   "id": "693908c2",
   "metadata": {},
   "outputs": [],
   "source": [
    "Sample_aktobe = df_sample_request.reindex(columns=['Группа услуг', 'Код_услуги', 'Услуга', 'Mediana_Sample', 'MAX_time_Sample', 'Min_PL', 'Max_PL',\n",
    "                                    'Количество', 'Комментарии'])"
   ]
  },
  {
   "cell_type": "code",
   "execution_count": 41,
   "id": "42f8f713",
   "metadata": {},
   "outputs": [],
   "source": [
    "Sample_aktobe['Разница'] = Sample_aktobe['Min_PL'] - Sample_aktobe['Mediana_Sample']"
   ]
  },
  {
   "cell_type": "code",
   "execution_count": 42,
   "id": "6e389c5b",
   "metadata": {},
   "outputs": [],
   "source": [
    "Sample_aktobe.to_excel('Sample_Aktobe.xlsx', index = False)"
   ]
  },
  {
   "cell_type": "code",
   "execution_count": 43,
   "id": "f4f78866",
   "metadata": {},
   "outputs": [],
   "source": [
    "import numpy as np\n",
    "import pandas as pd"
   ]
  },
  {
   "cell_type": "code",
   "execution_count": 44,
   "id": "cb941230",
   "metadata": {},
   "outputs": [],
   "source": [
    "Request_Uralsk = pd.read_excel('Request_Uralsck.xlsx')\n",
    "Sample_Uralsk = pd.read_excel('Актобе и Уральск 1 сентября по 1 февраля Sample.xlsx', sheet_name = 'Уральск')"
   ]
  },
  {
   "cell_type": "code",
   "execution_count": 45,
   "id": "dfda3413",
   "metadata": {},
   "outputs": [],
   "source": [
    "df_sample_request_Uralsk = pd.merge(Request_Uralsk , Sample_Uralsk, how = 'left')"
   ]
  },
  {
   "cell_type": "code",
   "execution_count": 46,
   "id": "106e34eb",
   "metadata": {},
   "outputs": [],
   "source": [
    "def update_times(row):\n",
    "    if row['Количество'] < 100:\n",
    "        row['Mediana_Sample'] = row['Min_PL']\n",
    "        row['MAX_time_Sample'] = row['Max_PL']\n",
    "    return row\n",
    "\n",
    "\n",
    "df_sample_request_Uralsk = df_sample_request_Uralsk.apply(update_times, axis=1)"
   ]
  },
  {
   "cell_type": "code",
   "execution_count": 47,
   "id": "0fbfeb96",
   "metadata": {},
   "outputs": [],
   "source": [
    "Sample_uralsk = df_sample_request_Uralsk.reindex(columns=['Группа услуг', 'Код_услуги', 'Услуга', 'Mediana_Sample', 'MAX_time_Sample', 'Min_PL', 'Max_PL',\n",
    "                                    'Количество', 'Комментарии'])"
   ]
  },
  {
   "cell_type": "code",
   "execution_count": 48,
   "id": "0583d9f4",
   "metadata": {},
   "outputs": [],
   "source": [
    "Sample_uralsk['Разница'] = Sample_uralsk['Min_PL'] - Sample_uralsk['Mediana_Sample']"
   ]
  },
  {
   "cell_type": "code",
   "execution_count": 49,
   "id": "96c24be1",
   "metadata": {},
   "outputs": [],
   "source": [
    "Sample_uralsk.to_excel('Sample_Uralsk.xlsx', index = False)"
   ]
  },
  {
   "cell_type": "code",
   "execution_count": 50,
   "id": "3b590b0d",
   "metadata": {},
   "outputs": [],
   "source": [
    "import numpy as np\n",
    "import pandas as pd"
   ]
  },
  {
   "cell_type": "code",
   "execution_count": 51,
   "id": "143ff5d3",
   "metadata": {},
   "outputs": [],
   "source": [
    "Sam_Akt = pd.read_excel('Sample_Aktobe.xlsx')\n",
    "Req_Akt = pd.read_excel('Request_Aktobe.xlsx')"
   ]
  },
  {
   "cell_type": "code",
   "execution_count": 52,
   "id": "236e5405",
   "metadata": {},
   "outputs": [],
   "source": [
    "sample_request_Akt = pd.merge(Req_Akt , Sam_Akt, on = 'Код_услуги', how = 'right')"
   ]
  },
  {
   "cell_type": "code",
   "execution_count": 53,
   "id": "e58dd950",
   "metadata": {},
   "outputs": [],
   "source": [
    "Sample_and_Request_Akt = sample_request_Akt.reindex(columns=['Группа услуг_x', 'Код_услуги', 'Услуга_x', 'Mediana_Sample', 'MAX_time_Sample', \n",
    "                                                             'Mediana', 'MAX_time', 'Количество_x', 'Комментарии_x'])"
   ]
  },
  {
   "cell_type": "code",
   "execution_count": 54,
   "id": "f73379b8",
   "metadata": {},
   "outputs": [],
   "source": [
    "Sample_and_Request_Akt ['Mediana_Sample'] = Sample_and_Request_Akt['Mediana_Sample'].apply(lambda x: 1 if x == 0 else x)\n",
    "    \n",
    "Sample_and_Request_Akt ['MAX_time_Sample'] = Sample_and_Request_Akt['MAX_time_Sample'].apply(lambda x: 1 if x == 0 else x)\n",
    "\n",
    "Sample_and_Request_Akt['Разница'] = Sample_and_Request_Akt['Mediana'] - Sample_and_Request_Akt['Mediana_Sample']"
   ]
  },
  {
   "cell_type": "code",
   "execution_count": 55,
   "id": "bf5d8f16",
   "metadata": {},
   "outputs": [],
   "source": [
    "Sample_and_Request_Akt.to_excel('Sample_Request_Aktobe.xlsx', index = False)"
   ]
  },
  {
   "cell_type": "code",
   "execution_count": 56,
   "id": "63c05540",
   "metadata": {},
   "outputs": [],
   "source": [
    "import numpy as np\n",
    "import pandas as pd"
   ]
  },
  {
   "cell_type": "code",
   "execution_count": 57,
   "id": "5256f0c8",
   "metadata": {},
   "outputs": [],
   "source": [
    "Sam_Ura = pd.read_excel('Sample_Uralsk.xlsx')\n",
    "Req_Ura = pd.read_excel('Request_Uralsck.xlsx')"
   ]
  },
  {
   "cell_type": "code",
   "execution_count": 58,
   "id": "33959efc",
   "metadata": {},
   "outputs": [],
   "source": [
    "sample_request_Ura = pd.merge(Req_Ura , Sam_Ura, on = 'Код_услуги', how = 'right')"
   ]
  },
  {
   "cell_type": "code",
   "execution_count": 59,
   "id": "43ab3c6c",
   "metadata": {},
   "outputs": [],
   "source": [
    "Sample_and_Request_Ura = sample_request_Ura.reindex(columns=['Группа услуг_x', 'Код_услуги', 'Услуга_x', 'Mediana_Sample', 'MAX_time_Sample', \n",
    "                                                             'Mediana', 'MAX_time', 'Количество_x', 'Комментарии_x'])"
   ]
  },
  {
   "cell_type": "code",
   "execution_count": 60,
   "id": "3599311e",
   "metadata": {},
   "outputs": [],
   "source": [
    "Sample_and_Request_Ura ['Mediana_Sample'] = Sample_and_Request_Ura['Mediana_Sample'].apply(lambda x: 1 if x == 0 else x)\n",
    "    \n",
    "Sample_and_Request_Ura ['MAX_time_Sample'] = Sample_and_Request_Ura['MAX_time_Sample'].apply(lambda x: 1 if x == 0 else x)\n",
    "\n",
    "Sample_and_Request_Ura['Разница'] = Sample_and_Request_Ura['Mediana'] - Sample_and_Request_Ura['Mediana_Sample']"
   ]
  },
  {
   "cell_type": "code",
   "execution_count": 61,
   "id": "94f08083",
   "metadata": {},
   "outputs": [],
   "source": [
    "Sample_and_Request_Ura.to_excel('Sample_Request_Uralsk.xlsx', index = False)"
   ]
  },
  {
   "cell_type": "code",
   "execution_count": null,
   "id": "4ec946fc",
   "metadata": {},
   "outputs": [],
   "source": []
  }
 ],
 "metadata": {
  "kernelspec": {
   "display_name": "Python 3 (ipykernel)",
   "language": "python",
   "name": "python3"
  },
  "language_info": {
   "codemirror_mode": {
    "name": "ipython",
    "version": 3
   },
   "file_extension": ".py",
   "mimetype": "text/x-python",
   "name": "python",
   "nbconvert_exporter": "python",
   "pygments_lexer": "ipython3",
   "version": "3.9.15"
  }
 },
 "nbformat": 4,
 "nbformat_minor": 5
}
